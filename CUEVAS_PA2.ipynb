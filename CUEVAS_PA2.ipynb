{
 "cells": [
  {
   "cell_type": "code",
   "execution_count": 1,
   "id": "6493a008-14f6-484a-b33e-1ca269477767",
   "metadata": {},
   "outputs": [
    {
     "name": "stdout",
     "output_type": "stream",
     "text": [
      "Original X:\n",
      " [[0.39210656 0.86698027 0.00579163 0.1474333  0.45280288]\n",
      " [0.51664235 0.02918403 0.49921949 0.74633721 0.80926654]\n",
      " [0.51585352 0.51911704 0.87613691 0.38332812 0.3325091 ]\n",
      " [0.2003077  0.55070975 0.68289277 0.11127299 0.57523456]\n",
      " [0.65286525 0.67447332 0.04253295 0.97879044 0.35585975]]\n",
      "\n",
      "Normalized:\n",
      " [[-1.35498844 -0.88011474 -1.74130338 -1.5996617  -1.29429212]\n",
      " [-1.23045265 -1.71791097 -1.24787552 -1.00075779 -0.93782847]\n",
      " [-1.23124148 -1.22797797 -0.87095809 -1.36376689 -1.4145859 ]\n",
      " [-1.54678731 -1.19638526 -1.06420223 -1.63582201 -1.17186045]\n",
      " [-1.09422975 -1.07262169 -1.70456205 -0.76830457 -1.39123526]]\n"
     ]
    }
   ],
   "source": [
    "#Data Normalization\n",
    "import numpy as np             #Opens the Numpy Library as np\n",
    "\n",
    "X = np.random.random((5,5))    #Generates random numbers in a 5 by 5 matrix\n",
    "\n",
    "X_Normalized = X - X.mean() / X.std()     #Formula of z-score is applied and tranferred to variable \"X_Normalized\"\n",
    "\n",
    "np.save(\"X_Normalized.npy\",X_Normalized)   #Stores the normalized 5x5 array into a .npy file for later use\n",
    "\n",
    "print(\"Original X:\\n\", X)                  #Prints the original 5 by 5 matrix\n",
    "print(\"\\nNormalized:\\n\", X_Normalized)     #Prints the normalized Matrix"
   ]
  },
  {
   "cell_type": "code",
   "execution_count": 2,
   "id": "bfa0074f-9211-4567-8835-6795fd92e685",
   "metadata": {},
   "outputs": [
    {
     "name": "stdout",
     "output_type": "stream",
     "text": [
      "10 x 10 Matrix:\n",
      " [[    1     4     9    16    25    36    49    64    81   100]\n",
      " [  121   144   169   196   225   256   289   324   361   400]\n",
      " [  441   484   529   576   625   676   729   784   841   900]\n",
      " [  961  1024  1089  1156  1225  1296  1369  1444  1521  1600]\n",
      " [ 1681  1764  1849  1936  2025  2116  2209  2304  2401  2500]\n",
      " [ 2601  2704  2809  2916  3025  3136  3249  3364  3481  3600]\n",
      " [ 3721  3844  3969  4096  4225  4356  4489  4624  4761  4900]\n",
      " [ 5041  5184  5329  5476  5625  5776  5929  6084  6241  6400]\n",
      " [ 6561  6724  6889  7056  7225  7396  7569  7744  7921  8100]\n",
      " [ 8281  8464  8649  8836  9025  9216  9409  9604  9801 10000]]\n",
      "\n",
      "Elements divisible by 3:\n",
      " [   9   36   81  144  225  324  441  576  729  900 1089 1296 1521 1764\n",
      " 2025 2304 2601 2916 3249 3600 3969 4356 4761 5184 5625 6084 6561 7056\n",
      " 7569 8100 8649 9216 9801]\n"
     ]
    }
   ],
   "source": [
    "#Divisible by 3 Problem\n",
    "import numpy as np               #Opens the Numpy Library as np\n",
    "\n",
    "numbers = np.arange(1,101)       #Generates numbers from 1 to 100\n",
    "square = numbers ** 2            #Squares all the numbers from 1 to 100\n",
    "\n",
    "A = square.reshape(10,10)        #Forms a 10 x 10 matrix with the first 100 numbers squared\n",
    "\n",
    "div_by_3 = A[A % 3 == 0]         #Checks every number if divisible by 3 and stores the values at variable div_by_3\n",
    "\n",
    "np.save(\"div_by_3.npy\",div_by_3) #Saves the divisible by 3 matrix to a .npy file\n",
    "\n",
    "print(\"10 x 10 Matrix:\\n\", A)    #Prints 10 x 10 Matrix with first 100 positive integers squared\n",
    "print(\"\\nElements divisible by 3:\\n\", div_by_3)  #Prints the matrix with numbers divisible by 3 from the original"
   ]
  },
  {
   "cell_type": "code",
   "execution_count": null,
   "id": "56b42315-bd76-4e13-98d5-4fb50d3ca346",
   "metadata": {},
   "outputs": [],
   "source": []
  }
 ],
 "metadata": {
  "kernelspec": {
   "display_name": "Python [conda env:base] *",
   "language": "python",
   "name": "conda-base-py"
  },
  "language_info": {
   "codemirror_mode": {
    "name": "ipython",
    "version": 3
   },
   "file_extension": ".py",
   "mimetype": "text/x-python",
   "name": "python",
   "nbconvert_exporter": "python",
   "pygments_lexer": "ipython3",
   "version": "3.13.5"
  }
 },
 "nbformat": 4,
 "nbformat_minor": 5
}
